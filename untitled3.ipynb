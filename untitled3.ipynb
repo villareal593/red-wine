{
  "nbformat": 4,
  "nbformat_minor": 0,
  "metadata": {
    "colab": {
      "provenance": [],
      "authorship_tag": "ABX9TyNwmlLfzFvgQ/YdsvZlRn7g",
      "include_colab_link": true
    },
    "kernelspec": {
      "name": "python3",
      "display_name": "Python 3"
    },
    "language_info": {
      "name": "python"
    }
  },
  "cells": [
    {
      "cell_type": "markdown",
      "metadata": {
        "id": "view-in-github",
        "colab_type": "text"
      },
      "source": [
        "<a href=\"https://colab.research.google.com/github/villareal593/red-wine/blob/main/untitled3.ipynb\" target=\"_parent\"><img src=\"https://colab.research.google.com/assets/colab-badge.svg\" alt=\"Open In Colab\"/></a>"
      ]
    },
    {
      "cell_type": "code",
      "execution_count": null,
      "metadata": {
        "id": "0MuUvgonGMY3"
      },
      "outputs": [],
      "source": [
        "import pandas as pd\n",
        "dataset = pd.read_csv('/content/winequality-red (1).csv',delimiter=\";\")\n",
        "dataset.head(10)"
      ]
    },
    {
      "source": [
        "dataset.shape"
      ],
      "cell_type": "code",
      "execution_count": null,
      "outputs": [],
      "metadata": {
        "cellView": "form",
        "id": "7YCfECS1JyaH"
      }
    },
    {
      "cell_type": "code",
      "source": [
        "dataset.info()"
      ],
      "metadata": {
        "id": "ND0SIJTrJ70a"
      },
      "execution_count": null,
      "outputs": []
    },
    {
      "cell_type": "code",
      "source": [
        "dataset.describe()"
      ],
      "metadata": {
        "id": "t1dmgSBDJ-ts"
      },
      "execution_count": null,
      "outputs": []
    },
    {
      "cell_type": "code",
      "source": [
        "\n",
        "dataset.nunique()"
      ],
      "metadata": {
        "id": "7_TeNX9WKBT6"
      },
      "execution_count": null,
      "outputs": []
    },
    {
      "cell_type": "code",
      "source": [
        "dataset['alcohol'].unique()"
      ],
      "metadata": {
        "id": "gC9OcC4qKElY"
      },
      "execution_count": null,
      "outputs": []
    },
    {
      "cell_type": "code",
      "source": [
        "dataset.isnull().sum()"
      ],
      "metadata": {
        "id": "U-ZE2T6UYBf4"
      },
      "execution_count": null,
      "outputs": []
    },
    {
      "cell_type": "code",
      "source": [
        "#correlation\n",
        "import seaborn as sns\n",
        "import numpy as np\n",
        "import matplotlib.pyplot as plt\n",
        "\n",
        "\n",
        "#seaborn heatmap method\n",
        "plt.figure(figsize=[16,6])\n",
        "sns.heatmap(dataset.corr(), annot=True)"
      ],
      "metadata": {
        "id": "y6VUgzFbYGC5"
      },
      "execution_count": null,
      "outputs": []
    },
    {
      "cell_type": "code",
      "source": [
        "!pip install pycaret[full]"
      ],
      "metadata": {
        "id": "wuGbK-64KpPo"
      },
      "execution_count": null,
      "outputs": []
    },
    {
      "cell_type": "code",
      "source": [
        "import pycaret\n",
        "pycaret.__version__"
      ],
      "metadata": {
        "id": "pIvY77ngY5tE"
      },
      "execution_count": null,
      "outputs": []
    },
    {
      "cell_type": "code",
      "source": [
        "from pandas_profiling import ProfileReport\n",
        "# run profile\n",
        "profile = ProfileReport(dataset, title = 'Report - Pandas Profilling', html={'style': {'full_width': True}})\n",
        "profile"
      ],
      "metadata": {
        "id": "YFta3yLHaGKg"
      },
      "execution_count": null,
      "outputs": []
    },
    {
      "cell_type": "code",
      "source": [
        "pip install -U mlflow"
      ],
      "metadata": {
        "id": "9QfAgESqdYh2"
      },
      "execution_count": null,
      "outputs": []
    },
    {
      "cell_type": "code",
      "source": [
        "pip install -U pycaret"
      ],
      "metadata": {
        "id": "jz63-plvdfW-"
      },
      "execution_count": null,
      "outputs": []
    },
    {
      "cell_type": "code",
      "source": [
        "from pycaret.datasets import get_data\n",
        "\n",
        "# import pycaret regression and init setup\n",
        "from pycaret.regression import *\n",
        "#exprience 1 with few preprocessing much sticking to the defaults, i will also log all my experiments\n",
        "exp1=RegressionExperiment()\n",
        "exp1.setup(dataset, target = 'alcohol',session_id=123)"
      ],
      "metadata": {
        "id": "qsE2ySFFbZ-d"
      },
      "execution_count": null,
      "outputs": []
    },
    {
      "cell_type": "code",
      "source": [
        "#experimenting with some preprocessing options such as:\n",
        "#zscore normalization, removing outliers,feture selection, removing_multicollinearity,\n",
        "exp2=RegressionExperiment()\n",
        "exp2.setup(dataset, target = 'alcohol', session_id = 123 )\n"
      ],
      "metadata": {
        "id": "Dcfl2P5DcYsa"
      },
      "execution_count": null,
      "outputs": []
    },
    {
      "cell_type": "code",
      "source": [
        "# experiment while ignoring quality as it has strong correlation with alcoho and see how the model would perform with out the quality, as it seems some non-linear dependency with the other features other than quality i will experiment by  adding polynomial features\n",
        "#and instead of normalization experiment with transformation\n",
        "exp3=RegressionExperiment()\n",
        "exp3.setup(dataset, ignore_features=\"quality\", target = 'alcohol', session_id = 123, experiment_name=\"experiment_3\")\n",
        "\n"
      ],
      "metadata": {
        "id": "NPTSSTHCdq9o"
      },
      "execution_count": null,
      "outputs": []
    },
    {
      "cell_type": "code",
      "source": [
        "exp4=RegressionExperiment()\n",
        "exp4.setup(dataset, target = 'alcohol', session_id = 123 , experiment_name=\"experiment_4\")\n"
      ],
      "metadata": {
        "id": "gksAisoLdxP2"
      },
      "execution_count": null,
      "outputs": []
    },
    {
      "cell_type": "code",
      "source": [
        "# compare baseline models and i will keep the top three models from each experiment\n",
        "Top3_exp1 = exp1.compare_models(n_select=3)"
      ],
      "metadata": {
        "id": "oRmFMQISepgh"
      },
      "execution_count": null,
      "outputs": []
    },
    {
      "cell_type": "code",
      "source": [
        "Top3_exp2=exp2.compare_models(n_select=3,sort=\"R2\")"
      ],
      "metadata": {
        "id": "o7LlGoBIgyyG"
      },
      "execution_count": null,
      "outputs": []
    },
    {
      "cell_type": "code",
      "source": [
        "Top3_exp3=exp3.compare_models(n_select=3,sort=\"R2\")"
      ],
      "metadata": {
        "id": "ZpjP5DHsg3dW"
      },
      "execution_count": null,
      "outputs": []
    },
    {
      "cell_type": "code",
      "source": [
        "Top3_exp4 = exp4.compare_models(n_select=3,sort=\"R2\")\n"
      ],
      "metadata": {
        "id": "U9AopcTchuW2"
      },
      "execution_count": null,
      "outputs": []
    },
    {
      "cell_type": "code",
      "source": [
        "catboost_Model = exp1.create_model(\"catboost\")"
      ],
      "metadata": {
        "id": "3yes_cjahz4p"
      },
      "execution_count": null,
      "outputs": []
    },
    {
      "cell_type": "code",
      "source": [
        "tuned_catboost = exp1.tune_model(catboost_Model, optimize=\"R2\")"
      ],
      "metadata": {
        "id": "rkypocl-iRk-"
      },
      "execution_count": null,
      "outputs": []
    },
    {
      "cell_type": "code",
      "source": [
        "exp1.plot_model(tuned_catboost, plot =\"residuals\")"
      ],
      "metadata": {
        "id": "620alNvPicy4"
      },
      "execution_count": null,
      "outputs": []
    },
    {
      "cell_type": "code",
      "source": [
        "# plot error\n",
        "exp1.plot_model(tuned_catboost, plot = 'error')"
      ],
      "metadata": {
        "id": "O7ipvgcCilrm"
      },
      "execution_count": null,
      "outputs": []
    },
    {
      "cell_type": "code",
      "source": [
        "exp1.interpret_model(tuned_catboost)"
      ],
      "metadata": {
        "id": "Bmdy_qwSi7zH"
      },
      "execution_count": null,
      "outputs": []
    },
    {
      "cell_type": "code",
      "source": [
        "Blended_Model = exp1.blend_models(Top3_exp1)\n",
        "Blended_Model"
      ],
      "metadata": {
        "id": "zbZ0YU8xjAH-"
      },
      "execution_count": null,
      "outputs": []
    },
    {
      "cell_type": "code",
      "source": [
        "Stacked_Model = exp1.stack_models(Top3_exp1)\n",
        "Stacked_Model"
      ],
      "metadata": {
        "id": "GnrcqACGjNvV"
      },
      "execution_count": null,
      "outputs": []
    },
    {
      "cell_type": "code",
      "source": [
        "# predict on test set\n",
        "holdout_pred = exp1.predict_model(Stacked_Model)"
      ],
      "metadata": {
        "id": "nx75YPVNjyhg"
      },
      "execution_count": null,
      "outputs": []
    },
    {
      "cell_type": "code",
      "source": [
        "# show predictions df\n",
        "holdout_pred.head()"
      ],
      "metadata": {
        "id": "AZADuDd3l48l"
      },
      "execution_count": null,
      "outputs": []
    },
    {
      "cell_type": "code",
      "source": [
        "\n",
        "new_data = exp1.dataset.copy()\n",
        "new_data.drop('alcohol', axis=1, inplace=True)\n",
        "new_data.head()"
      ],
      "metadata": {
        "id": "yKSbz_ztl8g7"
      },
      "execution_count": null,
      "outputs": []
    },
    {
      "cell_type": "code",
      "source": [
        "\n",
        "# predict model on new_data\n",
        "predictions = exp1.predict_model(Stacked_Model, data = new_data)\n",
        "predictions.head()"
      ],
      "metadata": {
        "id": "HjXaXlZGl_Kj"
      },
      "execution_count": null,
      "outputs": []
    },
    {
      "cell_type": "code",
      "source": [
        "The_Final_Wining_Model= exp1.finalize_model(Stacked_Model)\n",
        "The_Final_Wining_Model"
      ],
      "metadata": {
        "id": "9z709oq5mBPA"
      },
      "execution_count": null,
      "outputs": []
    },
    {
      "cell_type": "code",
      "source": [
        "# save pipeline\n",
        "exp1.save_model(The_Final_Wining_Model, 'my_pycaret_regression_pipeline')"
      ],
      "metadata": {
        "id": "hPbubDPpmJsj"
      },
      "execution_count": null,
      "outputs": []
    },
    {
      "cell_type": "code",
      "source": [
        "\n",
        "# load pipeline\n",
        "My_Winning_Regressor = load_model('my_pycaret_regression_pipeline')\n",
        "My_Winning_Regressor"
      ],
      "metadata": {
        "id": "Jzq16WGImP3M"
      },
      "execution_count": null,
      "outputs": []
    },
    {
      "cell_type": "code",
      "source": [],
      "metadata": {
        "id": "2RFKzRlSmTEa"
      },
      "execution_count": null,
      "outputs": []
    }
  ]
}